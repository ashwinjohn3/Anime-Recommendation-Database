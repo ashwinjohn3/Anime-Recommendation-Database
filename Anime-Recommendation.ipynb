{
 "cells": [
  {
   "cell_type": "markdown",
   "metadata": {},
   "source": [
    "# Anime Recommendation Engine"
   ]
  },
  {
   "cell_type": "markdown",
   "metadata": {},
   "source": [
    "As per Wikipedia, Anime is hand-drawn and computer animation originating from Japan. The word anime is the Japanese term for animation, which refers to all forms of animated media. Nowadays, a lot of people are finding anime as a great form of entertainment. With its distinctive artstyle and voice-acting, it has garnered a lot of appreciation especially among the youths. As an anime fan myself, I would be exploring and also I will be building an anime recommendation engine based on the dataset - Anime Recommendation Database - which was scrapped from myanimelist.net (also known as MAL)  - a website which facilitates finding users who share similar tastes and provides a large database on anime and manga."
   ]
  },
  {
   "cell_type": "markdown",
   "metadata": {},
   "source": [
    "## Data"
   ]
  },
  {
   "cell_type": "markdown",
   "metadata": {},
   "source": [
    "The dataset we will be using for building the recommendation engine will be the [Anime Recommendation Database](https://www.kaggle.com/CooperUnion/anime-recommendations-database) which has two files - anime.csv and rating.csv. This data set contains information on user preference data from 73,516 users on 12,294 anime. Each user is able to add anime to their completed list and give it a rating and this data set is a compilation of those ratings."
   ]
  },
  {
   "cell_type": "markdown",
   "metadata": {},
   "source": [
    "**anime.csv**\n",
    "1. anime_id - myanimelist.net's unique id identifying an anime.\n",
    "2. name - full name of anime.\n",
    "3. genre - comma separated list of genres for this anime.\n",
    "4. type - movie, TV, OVA, etc.\n",
    "5. episodes - how many episodes in this show. (1 if movie).\n",
    "6. rating - average rating out of 10 for this anime.\n",
    "7. members - number of community members that are in this anime's \"group\"."
   ]
  },
  {
   "cell_type": "markdown",
   "metadata": {},
   "source": [
    "**rating.csv**\n",
    "1. user_id - non identifiable randomly generated user id.\n",
    "2. anime_id - the anime that this user has rated.\n",
    "3. rating - rating out of 10 this user has assigned (-1 if the user watched it but didn't assign a rating)."
   ]
  },
  {
   "cell_type": "markdown",
   "metadata": {},
   "source": [
    "<h2>Part 1 Data Prepration and Cleaning</h2>\n",
    "    <p>Objective</p>\n",
    "    <ol><li>Import all required libraries</li>\n",
    "    <li>Find initial dimension of data</li>\n",
    "        <li>Print the first and the last 5 rows.</li>\n",
    "        <li>Convert the features to their appropriate data types </li>\n",
    "        <li>Drop duplicate rows and columns, if any.</li>"
   ]
  },
  {
   "cell_type": "markdown",
   "metadata": {},
   "source": [
    "<h3>Import libraries</h3>\n",
    "<p> The most important library used is the <b>pandas</b>, this enables the csv to be converted to a pandas datatype and allow data manipulation. <b>Numpy</b> library adds array like functionalities to python for scientific calculations. The visulaization is carried out using <b>Matplotlib</b> and <b>Seaborn</b>."
   ]
  },
  {
   "cell_type": "code",
   "execution_count": 6,
   "metadata": {},
   "outputs": [],
   "source": [
    "import pandas as pd\n",
    "import numpy as np\n",
    "from matplotlib import pyplot as plt\n",
    "from IPython.display import clear_output\n",
    "import seaborn as sns"
   ]
  },
  {
   "cell_type": "code",
   "execution_count": 7,
   "metadata": {},
   "outputs": [],
   "source": [
    "# This option enables auto complete in notebook\n",
    "%config IPCompleter.greedy=True"
   ]
  },
  {
   "cell_type": "markdown",
   "metadata": {},
   "source": [
    "### Loading the two csv files"
   ]
  },
  {
   "cell_type": "code",
   "execution_count": 5,
   "metadata": {},
   "outputs": [],
   "source": [
    "# Load csv to pandas dataframe\n",
    "anime = pd.read_csv('anime.csv')\n",
    "# df_test is the test dataset which will also be pre-processed together\n",
    "rating = pd.read_csv('rating.csv')\n",
    "# Enables viewing of all columns when using the head and tail command\n",
    "pd.options.display.max_columns = None\n",
    "pd.options.display.max_rows = None\n",
    "\n",
    "\n",
    "# Show full column with out truncation\n",
    "pd.set_option('display.max_colwidth', -1)"
   ]
  },
  {
   "cell_type": "markdown",
   "metadata": {},
   "source": [
    "### Find the initial dimension of dataframe"
   ]
  },
  {
   "cell_type": "code",
   "execution_count": 9,
   "metadata": {},
   "outputs": [
    {
     "name": "stdout",
     "output_type": "stream",
     "text": [
      "anime shape:  (12294, 7)\n",
      "rating shape:  (7813737, 3)\n"
     ]
    }
   ],
   "source": [
    "print ('anime shape: ', anime.shape)\n",
    "print ('rating shape: ', rating.shape)"
   ]
  },
  {
   "cell_type": "markdown",
   "metadata": {},
   "source": [
    "<blockquote>The dataframe anime initially has a dimension of 12294 x 7 which means there are 7 columns of attributes and 12294 rows of data. The dataframe rating initially has a dimension of 7813737 x 3 which means there are 3 columns of attributes and 7813737 rows of data.</blockquote>"
   ]
  },
  {
   "cell_type": "markdown",
   "metadata": {},
   "source": [
    "### Getting an overview of data\n",
    "by checking first and last 5 rows of the dataframes"
   ]
  },
  {
   "cell_type": "code",
   "execution_count": 10,
   "metadata": {},
   "outputs": [
    {
     "data": {
      "text/html": [
       "<div>\n",
       "<style scoped>\n",
       "    .dataframe tbody tr th:only-of-type {\n",
       "        vertical-align: middle;\n",
       "    }\n",
       "\n",
       "    .dataframe tbody tr th {\n",
       "        vertical-align: top;\n",
       "    }\n",
       "\n",
       "    .dataframe thead th {\n",
       "        text-align: right;\n",
       "    }\n",
       "</style>\n",
       "<table border=\"1\" class=\"dataframe\">\n",
       "  <thead>\n",
       "    <tr style=\"text-align: right;\">\n",
       "      <th></th>\n",
       "      <th>anime_id</th>\n",
       "      <th>name</th>\n",
       "      <th>genre</th>\n",
       "      <th>type</th>\n",
       "      <th>episodes</th>\n",
       "      <th>rating</th>\n",
       "      <th>members</th>\n",
       "    </tr>\n",
       "  </thead>\n",
       "  <tbody>\n",
       "    <tr>\n",
       "      <td>0</td>\n",
       "      <td>32281</td>\n",
       "      <td>Kimi no Na wa.</td>\n",
       "      <td>Drama, Romance, School, Supernatural</td>\n",
       "      <td>Movie</td>\n",
       "      <td>1</td>\n",
       "      <td>9.37</td>\n",
       "      <td>200630</td>\n",
       "    </tr>\n",
       "    <tr>\n",
       "      <td>1</td>\n",
       "      <td>5114</td>\n",
       "      <td>Fullmetal Alchemist: Brotherhood</td>\n",
       "      <td>Action, Adventure, Drama, Fantasy, Magic, Military, Shounen</td>\n",
       "      <td>TV</td>\n",
       "      <td>64</td>\n",
       "      <td>9.26</td>\n",
       "      <td>793665</td>\n",
       "    </tr>\n",
       "    <tr>\n",
       "      <td>2</td>\n",
       "      <td>28977</td>\n",
       "      <td>Gintama°</td>\n",
       "      <td>Action, Comedy, Historical, Parody, Samurai, Sci-Fi, Shounen</td>\n",
       "      <td>TV</td>\n",
       "      <td>51</td>\n",
       "      <td>9.25</td>\n",
       "      <td>114262</td>\n",
       "    </tr>\n",
       "    <tr>\n",
       "      <td>3</td>\n",
       "      <td>9253</td>\n",
       "      <td>Steins;Gate</td>\n",
       "      <td>Sci-Fi, Thriller</td>\n",
       "      <td>TV</td>\n",
       "      <td>24</td>\n",
       "      <td>9.17</td>\n",
       "      <td>673572</td>\n",
       "    </tr>\n",
       "    <tr>\n",
       "      <td>4</td>\n",
       "      <td>9969</td>\n",
       "      <td>Gintama&amp;#039;</td>\n",
       "      <td>Action, Comedy, Historical, Parody, Samurai, Sci-Fi, Shounen</td>\n",
       "      <td>TV</td>\n",
       "      <td>51</td>\n",
       "      <td>9.16</td>\n",
       "      <td>151266</td>\n",
       "    </tr>\n",
       "  </tbody>\n",
       "</table>\n",
       "</div>"
      ],
      "text/plain": [
       "   anime_id                              name  \\\n",
       "0  32281     Kimi no Na wa.                     \n",
       "1  5114      Fullmetal Alchemist: Brotherhood   \n",
       "2  28977     Gintama°                           \n",
       "3  9253      Steins;Gate                        \n",
       "4  9969      Gintama&#039;                      \n",
       "\n",
       "                                                          genre   type  \\\n",
       "0  Drama, Romance, School, Supernatural                          Movie   \n",
       "1  Action, Adventure, Drama, Fantasy, Magic, Military, Shounen   TV      \n",
       "2  Action, Comedy, Historical, Parody, Samurai, Sci-Fi, Shounen  TV      \n",
       "3  Sci-Fi, Thriller                                              TV      \n",
       "4  Action, Comedy, Historical, Parody, Samurai, Sci-Fi, Shounen  TV      \n",
       "\n",
       "  episodes  rating  members  \n",
       "0  1        9.37    200630   \n",
       "1  64       9.26    793665   \n",
       "2  51       9.25    114262   \n",
       "3  24       9.17    673572   \n",
       "4  51       9.16    151266   "
      ]
     },
     "execution_count": 10,
     "metadata": {},
     "output_type": "execute_result"
    }
   ],
   "source": [
    "# Checking first 5 rows of anime dataframe\n",
    "anime.head(5)"
   ]
  },
  {
   "cell_type": "code",
   "execution_count": 12,
   "metadata": {},
   "outputs": [
    {
     "data": {
      "text/html": [
       "<div>\n",
       "<style scoped>\n",
       "    .dataframe tbody tr th:only-of-type {\n",
       "        vertical-align: middle;\n",
       "    }\n",
       "\n",
       "    .dataframe tbody tr th {\n",
       "        vertical-align: top;\n",
       "    }\n",
       "\n",
       "    .dataframe thead th {\n",
       "        text-align: right;\n",
       "    }\n",
       "</style>\n",
       "<table border=\"1\" class=\"dataframe\">\n",
       "  <thead>\n",
       "    <tr style=\"text-align: right;\">\n",
       "      <th></th>\n",
       "      <th>anime_id</th>\n",
       "      <th>name</th>\n",
       "      <th>genre</th>\n",
       "      <th>type</th>\n",
       "      <th>episodes</th>\n",
       "      <th>rating</th>\n",
       "      <th>members</th>\n",
       "    </tr>\n",
       "  </thead>\n",
       "  <tbody>\n",
       "    <tr>\n",
       "      <td>12289</td>\n",
       "      <td>9316</td>\n",
       "      <td>Toushindai My Lover: Minami tai Mecha-Minami</td>\n",
       "      <td>Hentai</td>\n",
       "      <td>OVA</td>\n",
       "      <td>1</td>\n",
       "      <td>4.15</td>\n",
       "      <td>211</td>\n",
       "    </tr>\n",
       "    <tr>\n",
       "      <td>12290</td>\n",
       "      <td>5543</td>\n",
       "      <td>Under World</td>\n",
       "      <td>Hentai</td>\n",
       "      <td>OVA</td>\n",
       "      <td>1</td>\n",
       "      <td>4.28</td>\n",
       "      <td>183</td>\n",
       "    </tr>\n",
       "    <tr>\n",
       "      <td>12291</td>\n",
       "      <td>5621</td>\n",
       "      <td>Violence Gekiga David no Hoshi</td>\n",
       "      <td>Hentai</td>\n",
       "      <td>OVA</td>\n",
       "      <td>4</td>\n",
       "      <td>4.88</td>\n",
       "      <td>219</td>\n",
       "    </tr>\n",
       "    <tr>\n",
       "      <td>12292</td>\n",
       "      <td>6133</td>\n",
       "      <td>Violence Gekiga Shin David no Hoshi: Inma Densetsu</td>\n",
       "      <td>Hentai</td>\n",
       "      <td>OVA</td>\n",
       "      <td>1</td>\n",
       "      <td>4.98</td>\n",
       "      <td>175</td>\n",
       "    </tr>\n",
       "    <tr>\n",
       "      <td>12293</td>\n",
       "      <td>26081</td>\n",
       "      <td>Yasuji no Pornorama: Yacchimae!!</td>\n",
       "      <td>Hentai</td>\n",
       "      <td>Movie</td>\n",
       "      <td>1</td>\n",
       "      <td>5.46</td>\n",
       "      <td>142</td>\n",
       "    </tr>\n",
       "  </tbody>\n",
       "</table>\n",
       "</div>"
      ],
      "text/plain": [
       "       anime_id                                                name   genre  \\\n",
       "12289  9316      Toushindai My Lover: Minami tai Mecha-Minami        Hentai   \n",
       "12290  5543      Under World                                         Hentai   \n",
       "12291  5621      Violence Gekiga David no Hoshi                      Hentai   \n",
       "12292  6133      Violence Gekiga Shin David no Hoshi: Inma Densetsu  Hentai   \n",
       "12293  26081     Yasuji no Pornorama: Yacchimae!!                    Hentai   \n",
       "\n",
       "        type episodes  rating  members  \n",
       "12289  OVA    1        4.15    211      \n",
       "12290  OVA    1        4.28    183      \n",
       "12291  OVA    4        4.88    219      \n",
       "12292  OVA    1        4.98    175      \n",
       "12293  Movie  1        5.46    142      "
      ]
     },
     "execution_count": 12,
     "metadata": {},
     "output_type": "execute_result"
    }
   ],
   "source": [
    "# Checking the last 5 rows of anime dataframe\n",
    "anime.tail(5)"
   ]
  },
  {
   "cell_type": "code",
   "execution_count": 13,
   "metadata": {},
   "outputs": [
    {
     "data": {
      "text/html": [
       "<div>\n",
       "<style scoped>\n",
       "    .dataframe tbody tr th:only-of-type {\n",
       "        vertical-align: middle;\n",
       "    }\n",
       "\n",
       "    .dataframe tbody tr th {\n",
       "        vertical-align: top;\n",
       "    }\n",
       "\n",
       "    .dataframe thead th {\n",
       "        text-align: right;\n",
       "    }\n",
       "</style>\n",
       "<table border=\"1\" class=\"dataframe\">\n",
       "  <thead>\n",
       "    <tr style=\"text-align: right;\">\n",
       "      <th></th>\n",
       "      <th>user_id</th>\n",
       "      <th>anime_id</th>\n",
       "      <th>rating</th>\n",
       "    </tr>\n",
       "  </thead>\n",
       "  <tbody>\n",
       "    <tr>\n",
       "      <td>0</td>\n",
       "      <td>1</td>\n",
       "      <td>20</td>\n",
       "      <td>-1</td>\n",
       "    </tr>\n",
       "    <tr>\n",
       "      <td>1</td>\n",
       "      <td>1</td>\n",
       "      <td>24</td>\n",
       "      <td>-1</td>\n",
       "    </tr>\n",
       "    <tr>\n",
       "      <td>2</td>\n",
       "      <td>1</td>\n",
       "      <td>79</td>\n",
       "      <td>-1</td>\n",
       "    </tr>\n",
       "    <tr>\n",
       "      <td>3</td>\n",
       "      <td>1</td>\n",
       "      <td>226</td>\n",
       "      <td>-1</td>\n",
       "    </tr>\n",
       "    <tr>\n",
       "      <td>4</td>\n",
       "      <td>1</td>\n",
       "      <td>241</td>\n",
       "      <td>-1</td>\n",
       "    </tr>\n",
       "  </tbody>\n",
       "</table>\n",
       "</div>"
      ],
      "text/plain": [
       "   user_id  anime_id  rating\n",
       "0  1        20       -1     \n",
       "1  1        24       -1     \n",
       "2  1        79       -1     \n",
       "3  1        226      -1     \n",
       "4  1        241      -1     "
      ]
     },
     "execution_count": 13,
     "metadata": {},
     "output_type": "execute_result"
    }
   ],
   "source": [
    "# Checking the first 5 rows of rating dataframe\n",
    "rating.head(5)"
   ]
  },
  {
   "cell_type": "code",
   "execution_count": 14,
   "metadata": {},
   "outputs": [
    {
     "data": {
      "text/html": [
       "<div>\n",
       "<style scoped>\n",
       "    .dataframe tbody tr th:only-of-type {\n",
       "        vertical-align: middle;\n",
       "    }\n",
       "\n",
       "    .dataframe tbody tr th {\n",
       "        vertical-align: top;\n",
       "    }\n",
       "\n",
       "    .dataframe thead th {\n",
       "        text-align: right;\n",
       "    }\n",
       "</style>\n",
       "<table border=\"1\" class=\"dataframe\">\n",
       "  <thead>\n",
       "    <tr style=\"text-align: right;\">\n",
       "      <th></th>\n",
       "      <th>user_id</th>\n",
       "      <th>anime_id</th>\n",
       "      <th>rating</th>\n",
       "    </tr>\n",
       "  </thead>\n",
       "  <tbody>\n",
       "    <tr>\n",
       "      <td>7813732</td>\n",
       "      <td>73515</td>\n",
       "      <td>16512</td>\n",
       "      <td>7</td>\n",
       "    </tr>\n",
       "    <tr>\n",
       "      <td>7813733</td>\n",
       "      <td>73515</td>\n",
       "      <td>17187</td>\n",
       "      <td>9</td>\n",
       "    </tr>\n",
       "    <tr>\n",
       "      <td>7813734</td>\n",
       "      <td>73515</td>\n",
       "      <td>22145</td>\n",
       "      <td>10</td>\n",
       "    </tr>\n",
       "    <tr>\n",
       "      <td>7813735</td>\n",
       "      <td>73516</td>\n",
       "      <td>790</td>\n",
       "      <td>9</td>\n",
       "    </tr>\n",
       "    <tr>\n",
       "      <td>7813736</td>\n",
       "      <td>73516</td>\n",
       "      <td>8074</td>\n",
       "      <td>9</td>\n",
       "    </tr>\n",
       "  </tbody>\n",
       "</table>\n",
       "</div>"
      ],
      "text/plain": [
       "         user_id  anime_id  rating\n",
       "7813732  73515    16512     7     \n",
       "7813733  73515    17187     9     \n",
       "7813734  73515    22145     10    \n",
       "7813735  73516    790       9     \n",
       "7813736  73516    8074      9     "
      ]
     },
     "execution_count": 14,
     "metadata": {},
     "output_type": "execute_result"
    }
   ],
   "source": [
    "# Checking the last 5 rows of rating dataframe\n",
    "rating.tail(5)"
   ]
  },
  {
   "cell_type": "markdown",
   "metadata": {},
   "source": [
    "### Checking datatypes of all attributes"
   ]
  },
  {
   "cell_type": "code",
   "execution_count": 15,
   "metadata": {},
   "outputs": [
    {
     "data": {
      "text/plain": [
       "anime_id    int64  \n",
       "name        object \n",
       "genre       object \n",
       "type        object \n",
       "episodes    object \n",
       "rating      float64\n",
       "members     int64  \n",
       "dtype: object"
      ]
     },
     "execution_count": 15,
     "metadata": {},
     "output_type": "execute_result"
    }
   ],
   "source": [
    "# Checking for anime dataframe\n",
    "anime.dtypes"
   ]
  },
  {
   "cell_type": "code",
   "execution_count": 16,
   "metadata": {},
   "outputs": [
    {
     "data": {
      "text/plain": [
       "user_id     int64\n",
       "anime_id    int64\n",
       "rating      int64\n",
       "dtype: object"
      ]
     },
     "execution_count": 16,
     "metadata": {},
     "output_type": "execute_result"
    }
   ],
   "source": [
    "# Checking for rating dataframe\n",
    "rating.dtypes"
   ]
  },
  {
   "cell_type": "code",
   "execution_count": 17,
   "metadata": {},
   "outputs": [
    {
     "data": {
      "text/html": [
       "<div>\n",
       "<style scoped>\n",
       "    .dataframe tbody tr th:only-of-type {\n",
       "        vertical-align: middle;\n",
       "    }\n",
       "\n",
       "    .dataframe tbody tr th {\n",
       "        vertical-align: top;\n",
       "    }\n",
       "\n",
       "    .dataframe thead th {\n",
       "        text-align: right;\n",
       "    }\n",
       "</style>\n",
       "<table border=\"1\" class=\"dataframe\">\n",
       "  <thead>\n",
       "    <tr style=\"text-align: right;\">\n",
       "      <th></th>\n",
       "      <th>count</th>\n",
       "      <th>mean</th>\n",
       "      <th>std</th>\n",
       "      <th>min</th>\n",
       "      <th>25%</th>\n",
       "      <th>50%</th>\n",
       "      <th>75%</th>\n",
       "      <th>max</th>\n",
       "    </tr>\n",
       "  </thead>\n",
       "  <tbody>\n",
       "    <tr>\n",
       "      <td>anime_id</td>\n",
       "      <td>12294.0</td>\n",
       "      <td>14058.221653</td>\n",
       "      <td>11455.294701</td>\n",
       "      <td>1.00</td>\n",
       "      <td>3484.25</td>\n",
       "      <td>10260.50</td>\n",
       "      <td>24794.50</td>\n",
       "      <td>34527.0</td>\n",
       "    </tr>\n",
       "    <tr>\n",
       "      <td>rating</td>\n",
       "      <td>12064.0</td>\n",
       "      <td>6.473902</td>\n",
       "      <td>1.026746</td>\n",
       "      <td>1.67</td>\n",
       "      <td>5.88</td>\n",
       "      <td>6.57</td>\n",
       "      <td>7.18</td>\n",
       "      <td>10.0</td>\n",
       "    </tr>\n",
       "    <tr>\n",
       "      <td>members</td>\n",
       "      <td>12294.0</td>\n",
       "      <td>18071.338864</td>\n",
       "      <td>54820.676925</td>\n",
       "      <td>5.00</td>\n",
       "      <td>225.00</td>\n",
       "      <td>1550.00</td>\n",
       "      <td>9437.00</td>\n",
       "      <td>1013917.0</td>\n",
       "    </tr>\n",
       "  </tbody>\n",
       "</table>\n",
       "</div>"
      ],
      "text/plain": [
       "            count          mean           std   min      25%       50%  \\\n",
       "anime_id  12294.0  14058.221653  11455.294701  1.00  3484.25  10260.50   \n",
       "rating    12064.0  6.473902      1.026746      1.67  5.88     6.57       \n",
       "members   12294.0  18071.338864  54820.676925  5.00  225.00   1550.00    \n",
       "\n",
       "               75%        max  \n",
       "anime_id  24794.50  34527.0    \n",
       "rating    7.18      10.0       \n",
       "members   9437.00   1013917.0  "
      ]
     },
     "execution_count": 17,
     "metadata": {},
     "output_type": "execute_result"
    }
   ],
   "source": [
    "anime.describe().T"
   ]
  },
  {
   "cell_type": "code",
   "execution_count": 18,
   "metadata": {},
   "outputs": [
    {
     "data": {
      "text/html": [
       "<div>\n",
       "<style scoped>\n",
       "    .dataframe tbody tr th:only-of-type {\n",
       "        vertical-align: middle;\n",
       "    }\n",
       "\n",
       "    .dataframe tbody tr th {\n",
       "        vertical-align: top;\n",
       "    }\n",
       "\n",
       "    .dataframe thead th {\n",
       "        text-align: right;\n",
       "    }\n",
       "</style>\n",
       "<table border=\"1\" class=\"dataframe\">\n",
       "  <thead>\n",
       "    <tr style=\"text-align: right;\">\n",
       "      <th></th>\n",
       "      <th>count</th>\n",
       "      <th>mean</th>\n",
       "      <th>std</th>\n",
       "      <th>min</th>\n",
       "      <th>25%</th>\n",
       "      <th>50%</th>\n",
       "      <th>75%</th>\n",
       "      <th>max</th>\n",
       "    </tr>\n",
       "  </thead>\n",
       "  <tbody>\n",
       "    <tr>\n",
       "      <td>user_id</td>\n",
       "      <td>7813737.0</td>\n",
       "      <td>36727.956745</td>\n",
       "      <td>20997.946119</td>\n",
       "      <td>1.0</td>\n",
       "      <td>18974.0</td>\n",
       "      <td>36791.0</td>\n",
       "      <td>54757.0</td>\n",
       "      <td>73516.0</td>\n",
       "    </tr>\n",
       "    <tr>\n",
       "      <td>anime_id</td>\n",
       "      <td>7813737.0</td>\n",
       "      <td>8909.072104</td>\n",
       "      <td>8883.949636</td>\n",
       "      <td>1.0</td>\n",
       "      <td>1240.0</td>\n",
       "      <td>6213.0</td>\n",
       "      <td>14093.0</td>\n",
       "      <td>34519.0</td>\n",
       "    </tr>\n",
       "    <tr>\n",
       "      <td>rating</td>\n",
       "      <td>7813737.0</td>\n",
       "      <td>6.144030</td>\n",
       "      <td>3.727800</td>\n",
       "      <td>-1.0</td>\n",
       "      <td>6.0</td>\n",
       "      <td>7.0</td>\n",
       "      <td>9.0</td>\n",
       "      <td>10.0</td>\n",
       "    </tr>\n",
       "  </tbody>\n",
       "</table>\n",
       "</div>"
      ],
      "text/plain": [
       "              count          mean           std  min      25%      50%  \\\n",
       "user_id   7813737.0  36727.956745  20997.946119  1.0  18974.0  36791.0   \n",
       "anime_id  7813737.0  8909.072104   8883.949636   1.0  1240.0   6213.0    \n",
       "rating    7813737.0  6.144030      3.727800     -1.0  6.0      7.0       \n",
       "\n",
       "              75%      max  \n",
       "user_id   54757.0  73516.0  \n",
       "anime_id  14093.0  34519.0  \n",
       "rating    9.0      10.0     "
      ]
     },
     "execution_count": 18,
     "metadata": {},
     "output_type": "execute_result"
    }
   ],
   "source": [
    "rating.describe().T"
   ]
  },
  {
   "cell_type": "markdown",
   "metadata": {},
   "source": [
    "### Finding out all the null values in the attributes"
   ]
  },
  {
   "cell_type": "code",
   "execution_count": 22,
   "metadata": {},
   "outputs": [
    {
     "data": {
      "text/plain": [
       "anime_id    0  \n",
       "name        0  \n",
       "genre       62 \n",
       "type        25 \n",
       "episodes    0  \n",
       "rating      230\n",
       "members     0  \n",
       "dtype: int64"
      ]
     },
     "execution_count": 22,
     "metadata": {},
     "output_type": "execute_result"
    }
   ],
   "source": [
    "# For anime dataframe\n",
    "anime[anime.columns].isnull().sum()"
   ]
  },
  {
   "cell_type": "code",
   "execution_count": 23,
   "metadata": {},
   "outputs": [
    {
     "data": {
      "text/plain": [
       "user_id     0\n",
       "anime_id    0\n",
       "rating      0\n",
       "dtype: int64"
      ]
     },
     "execution_count": 23,
     "metadata": {},
     "output_type": "execute_result"
    }
   ],
   "source": [
    "# For rating dataframe\n",
    "rating[rating.columns].isnull().sum()"
   ]
  },
  {
   "cell_type": "markdown",
   "metadata": {},
   "source": [
    "<blockquote>From the above information we can see that there are 62 missing values in genre feature, 25 in feature type as well as 230 in the rating feature. Since we are building a recommendation engine using collabarative filtering we will ony look at the relative rating of animes by each users.</blockquote>\n"
   ]
  },
  {
   "cell_type": "markdown",
   "metadata": {},
   "source": [
    "## Exploratory Data Analysis and Visualisation\n",
    "<b> We will be exploring the two dataframes, anime and rating so as to analyse and gain more insights from the dataset.</b> "
   ]
  },
  {
   "cell_type": "code",
   "execution_count": 40,
   "metadata": {},
   "outputs": [],
   "source": [
    "def get_cardinalities(columns):\n",
    "    \"\"\"To get the unique cardinalities of a column in a dataframe\"\"\"\n",
    "    colist = columns.tolist()\n",
    "    card = []\n",
    "    for i in colist:\n",
    "        k = list(str(i).split(', '))\n",
    "        for j in k:\n",
    "            if j not in card:\n",
    "                card.append(j)\n",
    "    return card"
   ]
  },
  {
   "cell_type": "code",
   "execution_count": 50,
   "metadata": {},
   "outputs": [
    {
     "name": "stdout",
     "output_type": "stream",
     "text": [
      "There are over 44 unique entries to genre feature in the anime dataframe.\n",
      "There are over 7 unique entries to genre feature in the anime dataframe.\n"
     ]
    }
   ],
   "source": [
    "genre_ = get_cardinalities(anime.genre)\n",
    "type_ = get_cardinalities(anime.type)\n",
    "print ('There are over {} unique entries to genre feature in the anime dataframe.'.format(len(genre_)))\n",
    "print ('There are over {} unique entries to type feature in the anime dataframe.'.format(len(type_)))"
   ]
  },
  {
   "cell_type": "code",
   "execution_count": 68,
   "metadata": {},
   "outputs": [
    {
     "name": "stdout",
     "output_type": "stream",
     "text": [
      "There are 73515 number of unique user ids in rating dataframe\n"
     ]
    }
   ],
   "source": [
    "user = rating.user_id.unique()\n",
    "print ('There are {} number of unique user ids in the rating dataframe.'.format(len(user)))"
   ]
  },
  {
   "cell_type": "code",
   "execution_count": null,
   "metadata": {},
   "outputs": [],
   "source": []
  },
  {
   "cell_type": "code",
   "execution_count": null,
   "metadata": {},
   "outputs": [],
   "source": []
  },
  {
   "cell_type": "code",
   "execution_count": null,
   "metadata": {},
   "outputs": [],
   "source": []
  }
 ],
 "metadata": {
  "kernelspec": {
   "display_name": "Python 3",
   "language": "python",
   "name": "python3"
  },
  "language_info": {
   "codemirror_mode": {
    "name": "ipython",
    "version": 3
   },
   "file_extension": ".py",
   "mimetype": "text/x-python",
   "name": "python",
   "nbconvert_exporter": "python",
   "pygments_lexer": "ipython3",
   "version": "3.7.4"
  }
 },
 "nbformat": 4,
 "nbformat_minor": 4
}
