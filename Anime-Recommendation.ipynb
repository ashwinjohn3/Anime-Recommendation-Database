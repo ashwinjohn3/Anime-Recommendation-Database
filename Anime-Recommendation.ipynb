{
 "cells": [
  {
   "cell_type": "markdown",
   "metadata": {},
   "source": [
    "# Anime Recommendation Engine"
   ]
  },
  {
   "cell_type": "markdown",
   "metadata": {},
   "source": [
    "As per Wikipedia, Anime is hand-drawn and computer animation originating from Japan. The word anime is the Japanese term for animation, which refers to all forms of animated media. Nowadays, a lot of people are finding anime as a great form of entertainment. With its distinctive artstyle and voice-acting, it has garnered a lot of appreciation especially among the youths. As an anime fan myself, I would be exploring and also I will be building an anime recommendation engine based on the dataset - Anime Recommendation Database - which was scrapped from myanimelist.net (also known as MAL)  - a website which facilitates finding users who share similar tastes and provides a large database on anime and manga."
   ]
  },
  {
   "cell_type": "markdown",
   "metadata": {},
   "source": [
    "## Data"
   ]
  },
  {
   "cell_type": "markdown",
   "metadata": {},
   "source": [
    "The dataset we will be using for building the recommendation engine will be the [Anime Recommendation Database](https://www.kaggle.com/CooperUnion/anime-recommendations-database) which has two files - anime.csv and rating.csv. This data set contains information on user preference data from 73,516 users on 12,294 anime. Each user is able to add anime to their completed list and give it a rating and this data set is a compilation of those ratings."
   ]
  },
  {
   "cell_type": "markdown",
   "metadata": {},
   "source": [
    "**anime.csv**\n",
    "1. anime_id - myanimelist.net's unique id identifying an anime.\n",
    "2. name - full name of anime.\n",
    "3. genre - comma separated list of genres for this anime.\n",
    "4. type - movie, TV, OVA, etc.\n",
    "5. episodes - how many episodes in this show. (1 if movie).\n",
    "6. rating - average rating out of 10 for this anime.\n",
    "7. members - number of community members that are in this anime's \"group\"."
   ]
  },
  {
   "cell_type": "markdown",
   "metadata": {},
   "source": [
    "**rating.csv**\n",
    "1. user_id - non identifiable randomly generated user id.\n",
    "2. anime_id - the anime that this user has rated.\n",
    "3. rating - rating out of 10 this user has assigned (-1 if the user watched it but didn't assign a rating)."
   ]
  },
  {
   "cell_type": "markdown",
   "metadata": {},
   "source": [
    "<h2>Part 1 Data Prepration and Cleaning</h2>\n",
    "    <p>Objective</p>\n",
    "    <ol><li>Import all required libraries</li>\n",
    "    <li>Find initial dimension of data</li>\n",
    "        <li>Print the first and the last 5 rows.</li>\n",
    "        <li>Convert the features to their appropriate data types </li>\n",
    "        <li>Drop duplicate rows and columns, if any.</li>\n",
    "        <li>Save your updated/cleaned data frame to a new csv file.</li>"
   ]
  },
  {
   "cell_type": "markdown",
   "metadata": {},
   "source": [
    "<h3>Import libraries</h3>\n",
    "<p> The most important library used is the <b>pandas</b>, this enables the csv to be converted to a pandas datatype and allow data manipulation. <b>Numpy</b> library adds array like functionalities to python for scientific calculations. The visulaization is carried out using <b>Matplotlib</b> and <b>Seaborn</b>."
   ]
  },
  {
   "cell_type": "code",
   "execution_count": 6,
   "metadata": {},
   "outputs": [],
   "source": [
    "import pandas as pd\n",
    "import numpy as np\n",
    "from matplotlib import pyplot as plt\n",
    "from IPython.display import clear_output\n",
    "import seaborn as sns"
   ]
  },
  {
   "cell_type": "code",
   "execution_count": 7,
   "metadata": {},
   "outputs": [],
   "source": [
    "# This option enables auto complete in notebook\n",
    "%config IPCompleter.greedy=True"
   ]
  },
  {
   "cell_type": "markdown",
   "metadata": {},
   "source": [
    "### Loading the two csv files"
   ]
  },
  {
   "cell_type": "code",
   "execution_count": 5,
   "metadata": {},
   "outputs": [],
   "source": [
    "# Load csv to pandas dataframe\n",
    "anime = pd.read_csv('anime.csv')\n",
    "# df_test is the test dataset which will also be pre-processed together\n",
    "rating = pd.read_csv('rating.csv')\n",
    "# Enables viewing of all columns when using the head and tail command\n",
    "pd.options.display.max_columns = None\n",
    "pd.options.display.max_rows = None\n",
    "\n",
    "\n",
    "# Show full column with out truncation\n",
    "pd.set_option('display.max_colwidth', -1)"
   ]
  },
  {
   "cell_type": "code",
   "execution_count": null,
   "metadata": {},
   "outputs": [],
   "source": []
  }
 ],
 "metadata": {
  "kernelspec": {
   "display_name": "Python 3",
   "language": "python",
   "name": "python3"
  },
  "language_info": {
   "codemirror_mode": {
    "name": "ipython",
    "version": 3
   },
   "file_extension": ".py",
   "mimetype": "text/x-python",
   "name": "python",
   "nbconvert_exporter": "python",
   "pygments_lexer": "ipython3",
   "version": "3.7.4"
  }
 },
 "nbformat": 4,
 "nbformat_minor": 4
}
